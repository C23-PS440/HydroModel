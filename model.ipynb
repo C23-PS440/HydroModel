{
 "cells": [
  {
   "cell_type": "code",
   "execution_count": 1,
   "id": "7c15fe77",
   "metadata": {
    "_cell_guid": "b1076dfc-b9ad-4769-8c92-a6c4dae69d19",
    "_uuid": "8f2839f25d086af736a60e9eeb907d3b93b6e0e5",
    "execution": {
     "iopub.execute_input": "2023-05-22T23:16:45.713775Z",
     "iopub.status.busy": "2023-05-22T23:16:45.713316Z",
     "iopub.status.idle": "2023-05-22T23:16:52.022580Z",
     "shell.execute_reply": "2023-05-22T23:16:52.021653Z"
    },
    "papermill": {
     "duration": 6.31919,
     "end_time": "2023-05-22T23:16:52.024990",
     "exception": false,
     "start_time": "2023-05-22T23:16:45.705800",
     "status": "completed"
    },
    "tags": []
   },
   "outputs": [
    {
     "name": "stderr",
     "output_type": "stream",
     "text": [
      "/opt/conda/lib/python3.10/site-packages/scipy/__init__.py:146: UserWarning: A NumPy version >=1.16.5 and <1.23.0 is required for this version of SciPy (detected version 1.23.5\n",
      "  warnings.warn(f\"A NumPy version >={np_minversion} and <{np_maxversion}\"\n"
     ]
    }
   ],
   "source": [
    "import os\n",
    "\n",
    "import tensorflow as tf\n",
    "from tensorflow.keras import Model, callbacks\n",
    "from tensorflow.keras.applications.vgg16 import VGG16\n",
    "from tensorflow.keras.layers import (Dense, Dropout, GlobalAveragePooling2D,\n",
    "                                     Input)\n",
    "from tensorflow.keras.metrics import TopKCategoricalAccuracy\n",
    "from tensorflow.keras.preprocessing.image import ImageDataGenerator\n",
    "from tensorflow.keras.optimizers import Adam\n",
    "import matplotlib.pyplot as plt\n",
    "from tensorflow.keras.models import Sequential\n",
    "from tensorflow.keras.layers import Conv2D,MaxPooling2D,Convolution2D,Activation,Flatten,Dense,Dropout,MaxPool2D,BatchNormalization\n",
    "\n"
   ]
  },
  {
   "cell_type": "code",
   "execution_count": 2,
   "id": "8d4c579a",
   "metadata": {
    "execution": {
     "iopub.execute_input": "2023-05-22T23:16:52.035107Z",
     "iopub.status.busy": "2023-05-22T23:16:52.034121Z",
     "iopub.status.idle": "2023-05-22T23:16:52.049918Z",
     "shell.execute_reply": "2023-05-22T23:16:52.048940Z"
    },
    "papermill": {
     "duration": 0.022946,
     "end_time": "2023-05-22T23:16:52.052163",
     "exception": false,
     "start_time": "2023-05-22T23:16:52.029217",
     "status": "completed"
    },
    "tags": []
   },
   "outputs": [
    {
     "name": "stdout",
     "output_type": "stream",
     "text": [
      "Jumlah class : 30\n"
     ]
    }
   ],
   "source": [
    "train_dir = '/kaggle/input/tes2plant/Valid/Train'\n",
    "val_dir = '/kaggle/input/tes2plant/Valid/Valid'\n",
    "test_dir = '/kaggle/input/tes2plant/Valid/test'\n",
    "\n",
    "disease = os.listdir(train_dir)\n",
    "print(f'Jumlah class : {len(disease)}')"
   ]
  },
  {
   "cell_type": "code",
   "execution_count": 3,
   "id": "d3fe57d5",
   "metadata": {
    "execution": {
     "iopub.execute_input": "2023-05-22T23:16:52.061274Z",
     "iopub.status.busy": "2023-05-22T23:16:52.060581Z",
     "iopub.status.idle": "2023-05-22T23:17:17.439420Z",
     "shell.execute_reply": "2023-05-22T23:17:17.438530Z"
    },
    "papermill": {
     "duration": 25.385863,
     "end_time": "2023-05-22T23:17:17.441803",
     "exception": false,
     "start_time": "2023-05-22T23:16:52.055940",
     "status": "completed"
    },
    "tags": []
   },
   "outputs": [
    {
     "name": "stdout",
     "output_type": "stream",
     "text": [
      "Found 52149 images belonging to 30 classes.\n",
      "Found 13041 images belonging to 30 classes.\n"
     ]
    }
   ],
   "source": [
    "from tensorflow.keras.preprocessing.image import ImageDataGenerator\n",
    "\n",
    "train_datagen = ImageDataGenerator(rescale = 1/255,\n",
    "                                    shear_range = 0.2,\n",
    "                                    zoom_range = 0.2,\n",
    "                                    fill_mode = 'nearest',\n",
    "                                    rotation_range = 20,\n",
    "                                    width_shift_range = 0.2,\n",
    "                                    height_shift_range = 0.2,\n",
    "                                    horizontal_flip= True\n",
    ")\n",
    "\n",
    "validation_datagen = ImageDataGenerator(rescale = 1/255)\n",
    "\n",
    "train_generator = train_datagen.flow_from_directory(\n",
    "    train_dir,\n",
    "    target_size = (224,224),\n",
    "    batch_size = 32,\n",
    "    class_mode = 'categorical'\n",
    ")\n",
    "\n",
    "validation_generator = validation_datagen.flow_from_directory(\n",
    "    val_dir,\n",
    "    target_size = (224,224),\n",
    "    batch_size = 32,\n",
    "    class_mode = 'categorical'\n",
    ")\n",
    "\n"
   ]
  },
  {
   "cell_type": "code",
   "execution_count": 4,
   "id": "265892f3",
   "metadata": {
    "execution": {
     "iopub.execute_input": "2023-05-22T23:17:17.451356Z",
     "iopub.status.busy": "2023-05-22T23:17:17.451059Z",
     "iopub.status.idle": "2023-05-22T23:17:20.259373Z",
     "shell.execute_reply": "2023-05-22T23:17:20.258517Z"
    },
    "papermill": {
     "duration": 2.868408,
     "end_time": "2023-05-22T23:17:20.314464",
     "exception": false,
     "start_time": "2023-05-22T23:17:17.446056",
     "status": "completed"
    },
    "tags": []
   },
   "outputs": [
    {
     "name": "stdout",
     "output_type": "stream",
     "text": [
      "Model: \"sequential\"\n",
      "_________________________________________________________________\n",
      " Layer (type)                Output Shape              Param #   \n",
      "=================================================================\n",
      " conv2d (Conv2D)             (None, 224, 224, 64)      1792      \n",
      "                                                                 \n",
      " batch_normalization (BatchN  (None, 224, 224, 64)     256       \n",
      " ormalization)                                                   \n",
      "                                                                 \n",
      " activation (Activation)     (None, 224, 224, 64)      0         \n",
      "                                                                 \n",
      " conv2d_1 (Conv2D)           (None, 224, 224, 128)     73856     \n",
      "                                                                 \n",
      " batch_normalization_1 (Batc  (None, 224, 224, 128)    512       \n",
      " hNormalization)                                                 \n",
      "                                                                 \n",
      " activation_1 (Activation)   (None, 224, 224, 128)     0         \n",
      "                                                                 \n",
      " max_pooling2d (MaxPooling2D  (None, 74, 74, 128)      0         \n",
      " )                                                               \n",
      "                                                                 \n",
      " conv2d_2 (Conv2D)           (None, 74, 74, 128)       147584    \n",
      "                                                                 \n",
      " batch_normalization_2 (Batc  (None, 74, 74, 128)      512       \n",
      " hNormalization)                                                 \n",
      "                                                                 \n",
      " activation_2 (Activation)   (None, 74, 74, 128)       0         \n",
      "                                                                 \n",
      " conv2d_3 (Conv2D)           (None, 74, 74, 128)       147584    \n",
      "                                                                 \n",
      " batch_normalization_3 (Batc  (None, 74, 74, 128)      512       \n",
      " hNormalization)                                                 \n",
      "                                                                 \n",
      " activation_3 (Activation)   (None, 74, 74, 128)       0         \n",
      "                                                                 \n",
      " conv2d_4 (Conv2D)           (None, 74, 74, 256)       295168    \n",
      "                                                                 \n",
      " batch_normalization_4 (Batc  (None, 74, 74, 256)      1024      \n",
      " hNormalization)                                                 \n",
      "                                                                 \n",
      " activation_4 (Activation)   (None, 74, 74, 256)       0         \n",
      "                                                                 \n",
      " max_pooling2d_1 (MaxPooling  (None, 24, 24, 256)      0         \n",
      " 2D)                                                             \n",
      "                                                                 \n",
      " conv2d_5 (Conv2D)           (None, 24, 24, 512)       1180160   \n",
      "                                                                 \n",
      " batch_normalization_5 (Batc  (None, 24, 24, 512)      2048      \n",
      " hNormalization)                                                 \n",
      "                                                                 \n",
      " activation_5 (Activation)   (None, 24, 24, 512)       0         \n",
      "                                                                 \n",
      " max_pooling2d_2 (MaxPooling  (None, 8, 8, 512)        0         \n",
      " 2D)                                                             \n",
      "                                                                 \n",
      " conv2d_6 (Conv2D)           (None, 8, 8, 512)         2359808   \n",
      "                                                                 \n",
      " batch_normalization_6 (Batc  (None, 8, 8, 512)        2048      \n",
      " hNormalization)                                                 \n",
      "                                                                 \n",
      " activation_6 (Activation)   (None, 8, 8, 512)         0         \n",
      "                                                                 \n",
      " conv2d_7 (Conv2D)           (None, 8, 8, 512)         2359808   \n",
      "                                                                 \n",
      " batch_normalization_7 (Batc  (None, 8, 8, 512)        2048      \n",
      " hNormalization)                                                 \n",
      "                                                                 \n",
      " activation_7 (Activation)   (None, 8, 8, 512)         0         \n",
      "                                                                 \n",
      " max_pooling2d_3 (MaxPooling  (None, 2, 2, 512)        0         \n",
      " 2D)                                                             \n",
      "                                                                 \n",
      " flatten (Flatten)           (None, 2048)              0         \n",
      "                                                                 \n",
      " dense (Dense)               (None, 2048)              4196352   \n",
      "                                                                 \n",
      " dropout (Dropout)           (None, 2048)              0         \n",
      "                                                                 \n",
      " dense_1 (Dense)             (None, 2048)              4196352   \n",
      "                                                                 \n",
      " dropout_1 (Dropout)         (None, 2048)              0         \n",
      "                                                                 \n",
      " dense_2 (Dense)             (None, 30)                61470     \n",
      "                                                                 \n",
      "=================================================================\n",
      "Total params: 15,028,894\n",
      "Trainable params: 15,024,414\n",
      "Non-trainable params: 4,480\n",
      "_________________________________________________________________\n"
     ]
    }
   ],
   "source": [
    "CNN = Sequential()\n",
    "\n",
    "CNN.add(Conv2D(64, kernel_size=(3,3), padding='same', input_shape = (224,224,3)))\n",
    "CNN.add(BatchNormalization())\n",
    "CNN.add(Activation('relu'))\n",
    "CNN.add(Conv2D(128, kernel_size=(3,3), padding='same', input_shape = (224,224,3)))\n",
    "CNN.add(BatchNormalization())\n",
    "CNN.add(Activation('relu'))\n",
    "CNN.add(MaxPool2D(pool_size=(3, 3)))\n",
    "\n",
    "CNN.add(Conv2D(128, kernel_size=(3,3), padding='same', input_shape = (224,224,3)))\n",
    "CNN.add(BatchNormalization())\n",
    "CNN.add(Activation('relu'))\n",
    "CNN.add(Conv2D(128, kernel_size=(3,3), padding='same', input_shape = (224,224,3)))\n",
    "CNN.add(BatchNormalization())\n",
    "CNN.add(Activation('relu'))\n",
    "\n",
    "CNN.add(Conv2D(256, kernel_size=(3,3), padding='same', input_shape = (224,224,3)))\n",
    "CNN.add(BatchNormalization())\n",
    "CNN.add(Activation('relu'))\n",
    "CNN.add(MaxPool2D(pool_size=(3, 3)))\n",
    "\n",
    "CNN.add(Conv2D(512, kernel_size=(3,3), padding='same', input_shape = (224,224,3)))\n",
    "CNN.add(BatchNormalization())\n",
    "CNN.add(Activation('relu'))\n",
    "CNN.add(MaxPool2D(pool_size=(3, 3)))\n",
    "\n",
    "CNN.add(Conv2D(512, kernel_size=(3,3), padding='same', input_shape = (224,224,3)))\n",
    "CNN.add(BatchNormalization())\n",
    "CNN.add(Activation('relu'))\n",
    "\n",
    "CNN.add(Conv2D(512, kernel_size=(3,3), padding='same', input_shape = (224,224,3)))\n",
    "CNN.add(BatchNormalization())\n",
    "CNN.add(Activation('relu'))\n",
    "CNN.add(MaxPool2D(pool_size=(3, 3)))\n",
    "\n",
    "CNN.add(Flatten())\n",
    "CNN.add(Dense(2048, activation='relu'))\n",
    "CNN.add(Dropout(0.5))\n",
    "CNN.add(Dense(2048, activation='relu'))\n",
    "CNN.add(Dropout(0.5))\n",
    "CNN.add(Dense(30, activation='softmax'))\n",
    "\n",
    "CNN.summary()"
   ]
  },
  {
   "cell_type": "code",
   "execution_count": 5,
   "id": "d6c4a44f",
   "metadata": {
    "execution": {
     "iopub.execute_input": "2023-05-22T23:17:20.336701Z",
     "iopub.status.busy": "2023-05-22T23:17:20.336355Z",
     "iopub.status.idle": "2023-05-22T23:17:20.355815Z",
     "shell.execute_reply": "2023-05-22T23:17:20.354940Z"
    },
    "papermill": {
     "duration": 0.032973,
     "end_time": "2023-05-22T23:17:20.357844",
     "exception": false,
     "start_time": "2023-05-22T23:17:20.324871",
     "status": "completed"
    },
    "tags": []
   },
   "outputs": [],
   "source": [
    "CNN.compile(optimizer=tf.keras.optimizers.Adam(),\n",
    "              loss='categorical_crossentropy',\n",
    "              metrics=['accuracy'])"
   ]
  },
  {
   "cell_type": "code",
   "execution_count": 6,
   "id": "15315f81",
   "metadata": {
    "execution": {
     "iopub.execute_input": "2023-05-22T23:17:20.379910Z",
     "iopub.status.busy": "2023-05-22T23:17:20.379633Z",
     "iopub.status.idle": "2023-05-23T02:28:29.877611Z",
     "shell.execute_reply": "2023-05-23T02:28:29.876630Z"
    },
    "papermill": {
     "duration": 11469.511689,
     "end_time": "2023-05-23T02:28:29.880079",
     "exception": false,
     "start_time": "2023-05-22T23:17:20.368390",
     "status": "completed"
    },
    "tags": []
   },
   "outputs": [
    {
     "name": "stdout",
     "output_type": "stream",
     "text": [
      "Epoch 1/15\n",
      "1630/1630 [==============================] - 861s 520ms/step - loss: 1.7400 - accuracy: 0.4535 - val_loss: 2.0054 - val_accuracy: 0.4804 - lr: 0.0010\n",
      "Epoch 2/15\n",
      "1630/1630 [==============================] - 730s 448ms/step - loss: 0.7216 - accuracy: 0.7636 - val_loss: 1.5283 - val_accuracy: 0.6463 - lr: 0.0010\n",
      "Epoch 3/15\n",
      "1630/1630 [==============================] - 738s 453ms/step - loss: 0.4482 - accuracy: 0.8571 - val_loss: 0.4571 - val_accuracy: 0.8559 - lr: 0.0010\n",
      "Epoch 4/15\n",
      "1630/1630 [==============================] - 735s 451ms/step - loss: 0.3340 - accuracy: 0.8984 - val_loss: 0.3604 - val_accuracy: 0.8963 - lr: 0.0010\n",
      "Epoch 5/15\n",
      "1630/1630 [==============================] - 747s 458ms/step - loss: 0.2741 - accuracy: 0.9157 - val_loss: 0.4716 - val_accuracy: 0.8697 - lr: 0.0010\n",
      "Epoch 6/15\n",
      "1630/1630 [==============================] - 742s 455ms/step - loss: 0.2344 - accuracy: 0.9279 - val_loss: 0.2791 - val_accuracy: 0.9360 - lr: 0.0010\n",
      "Epoch 7/15\n",
      "1630/1630 [==============================] - 748s 458ms/step - loss: 0.2140 - accuracy: 0.9359 - val_loss: 0.3496 - val_accuracy: 0.9045 - lr: 0.0010\n",
      "Epoch 8/15\n",
      "1630/1630 [==============================] - ETA: 0s - loss: 0.1857 - accuracy: 0.9436\n",
      "Epoch 8: ReduceLROnPlateau reducing learning rate to 0.00020000000949949026.\n",
      "1630/1630 [==============================] - 752s 461ms/step - loss: 0.1857 - accuracy: 0.9436 - val_loss: 0.4730 - val_accuracy: 0.8863 - lr: 0.0010\n",
      "Epoch 9/15\n",
      "1630/1630 [==============================] - 744s 456ms/step - loss: 0.0772 - accuracy: 0.9735 - val_loss: 0.0618 - val_accuracy: 0.9774 - lr: 2.0000e-04\n",
      "Epoch 10/15\n",
      "1630/1630 [==============================] - 741s 455ms/step - loss: 0.0610 - accuracy: 0.9777 - val_loss: 0.0930 - val_accuracy: 0.9756 - lr: 2.0000e-04\n",
      "Epoch 11/15\n",
      "1630/1630 [==============================] - ETA: 0s - loss: 0.0566 - accuracy: 0.9794\n",
      "Epoch 11: ReduceLROnPlateau reducing learning rate to 4.0000001899898055e-05.\n",
      "1630/1630 [==============================] - 747s 458ms/step - loss: 0.0566 - accuracy: 0.9794 - val_loss: 0.1240 - val_accuracy: 0.9704 - lr: 2.0000e-04\n",
      "Epoch 12/15\n",
      "1630/1630 [==============================] - 760s 466ms/step - loss: 0.0449 - accuracy: 0.9831 - val_loss: 0.0280 - val_accuracy: 0.9884 - lr: 4.0000e-05\n",
      "Epoch 13/15\n",
      "1630/1630 [==============================] - 755s 463ms/step - loss: 0.0410 - accuracy: 0.9844 - val_loss: 0.0269 - val_accuracy: 0.9887 - lr: 4.0000e-05\n",
      "Epoch 14/15\n",
      "1630/1630 [==============================] - 753s 462ms/step - loss: 0.0370 - accuracy: 0.9853 - val_loss: 0.0248 - val_accuracy: 0.9891 - lr: 4.0000e-05\n",
      "Epoch 15/15\n",
      "1630/1630 [==============================] - 758s 465ms/step - loss: 0.0369 - accuracy: 0.9858 - val_loss: 0.0229 - val_accuracy: 0.9908 - lr: 4.0000e-05\n"
     ]
    }
   ],
   "source": [
    "early_stopping_cb = callbacks.EarlyStopping(monitor=\"val_loss\", patience=3)\n",
    "reduce_lr = callbacks.ReduceLROnPlateau(monitor=\"val_loss\",  \n",
    "                                              factor=0.2, \n",
    "                                              patience=2,\n",
    "                                              verbose=1, \n",
    "                                              min_lr=1e-7)\n",
    "\n",
    "checkpoint_path = \"./Checkpoint/\"\n",
    "model_checkpoint = callbacks.ModelCheckpoint(checkpoint_path,\n",
    "                                                      save_weights_only=True,\n",
    "                                                      save_best_only=True,\n",
    "                                                      monitor=\"val_loss\")\n",
    "\n",
    "initial_epochs = 15\n",
    "\n",
    "history = CNN.fit(train_generator,\n",
    "                    epochs=initial_epochs,\n",
    "                    validation_data=validation_generator,\n",
    "                    callbacks=[early_stopping_cb, model_checkpoint, reduce_lr])"
   ]
  },
  {
   "cell_type": "code",
   "execution_count": 7,
   "id": "52199ec4",
   "metadata": {
    "execution": {
     "iopub.execute_input": "2023-05-23T02:28:33.725408Z",
     "iopub.status.busy": "2023-05-23T02:28:33.725040Z",
     "iopub.status.idle": "2023-05-23T02:28:43.741271Z",
     "shell.execute_reply": "2023-05-23T02:28:43.740308Z"
    },
    "papermill": {
     "duration": 12.033495,
     "end_time": "2023-05-23T02:28:43.744035",
     "exception": false,
     "start_time": "2023-05-23T02:28:31.710540",
     "status": "completed"
    },
    "tags": []
   },
   "outputs": [],
   "source": [
    "CNN.save('./CNNmodif.h5')\n",
    "CNN.save('./CNNmodif')\n",
    "CNN.save('./CNNmodif.tflite')"
   ]
  },
  {
   "cell_type": "code",
   "execution_count": 8,
   "id": "60e8b3dc",
   "metadata": {
    "execution": {
     "iopub.execute_input": "2023-05-23T02:28:47.778433Z",
     "iopub.status.busy": "2023-05-23T02:28:47.777911Z",
     "iopub.status.idle": "2023-05-23T02:28:48.250529Z",
     "shell.execute_reply": "2023-05-23T02:28:48.249498Z"
    },
    "papermill": {
     "duration": 2.503238,
     "end_time": "2023-05-23T02:28:48.252636",
     "exception": false,
     "start_time": "2023-05-23T02:28:45.749398",
     "status": "completed"
    },
    "tags": []
   },
   "outputs": [
    {
     "data": {
      "image/png": "[encoded data removed]",
      "text/plain": [
       "<Figure size 640x480 with 1 Axes>"
      ]
     },
     "metadata": {},
     "output_type": "display_data"
    },
    {
     "data": {
      "image/png": "[encoded data removed]",
      "text/plain": [
       "<Figure size 640x480 with 1 Axes>"
      ]
     },
     "metadata": {},
     "output_type": "display_data"
    }
   ],
   "source": [
    "hist = history.history\n",
    "def show_plt(type):\n",
    "    if type == 1:\n",
    "        plt.plot(hist[\"accuracy\"], label=\"accuracy\")\n",
    "        plt.plot(hist[\"val_accuracy\"], label=\"val_accuracy\")\n",
    "        plt.ylabel(\"Aaccuracy\")\n",
    "        plt.xlabel(\"Epochs #\")\n",
    "        plt.legend()\n",
    "        plt.show()\n",
    "    else:\n",
    "        plt.plot(hist[\"loss\"], label=\"loss\")\n",
    "        plt.plot(hist[\"val_loss\"], label=\"val_loss\")\n",
    "        plt.ylabel(\"Losss\")\n",
    "        plt.xlabel(\"Epochs #\")\n",
    "        plt.legend()\n",
    "        plt.show()\n",
    "        \n",
    "show_plt(1)\n",
    "show_plt(0)"
   ]
  },
  {
   "cell_type": "code",
   "execution_count": 9,
   "id": "67ed1cf5",
   "metadata": {
    "execution": {
     "iopub.execute_input": "2023-05-23T02:28:52.195048Z",
     "iopub.status.busy": "2023-05-23T02:28:52.194694Z",
     "iopub.status.idle": "2023-05-23T02:28:52.200124Z",
     "shell.execute_reply": "2023-05-23T02:28:52.199232Z"
    },
    "papermill": {
     "duration": 1.967709,
     "end_time": "2023-05-23T02:28:52.203112",
     "exception": false,
     "start_time": "2023-05-23T02:28:50.235403",
     "status": "completed"
    },
    "tags": []
   },
   "outputs": [
    {
     "name": "stdout",
     "output_type": "stream",
     "text": [
      "['Blueberry___healthy', 'Blueberry_rust', 'Chilli_gemini', 'Chilli_healthy', 'Chilli_mosaic', 'Cucumber_blight', 'Cucumber_healthy', 'Grape___Black_rot', 'Grape___Esca_(Black_Measles)', 'Grape___Leaf_blight_(Isariopsis_Leaf_Spot)', 'Grape___healthy', 'Lettuce_bacterial', 'Lettuce_downy', 'Lettuce_healthy', 'Lettuce_powdery', 'Lettuce_septoria', 'Pepper,_bell___Bacterial_spot', 'Pepper,_bell___healthy', 'Strawberry___Leaf_scorch', 'Strawberry___healthy', 'Tomato___Bacterial_spot', 'Tomato___Early_blight', 'Tomato___Late_blight', 'Tomato___Leaf_Mold', 'Tomato___Septoria_leaf_spot', 'Tomato___Spider_mites Two-spotted_spider_mite', 'Tomato___Target_Spot', 'Tomato___Tomato_Yellow_Leaf_Curl_Virus', 'Tomato___Tomato_mosaic_virus', 'Tomato___healthy']\n"
     ]
    }
   ],
   "source": [
    "class_dict = train_generator.class_indices\n",
    "li = list(class_dict.keys())\n",
    "print(li)"
   ]
  },
  {
   "cell_type": "code",
   "execution_count": 10,
   "id": "3a51a772",
   "metadata": {
    "execution": {
     "iopub.execute_input": "2023-05-23T02:28:56.091513Z",
     "iopub.status.busy": "2023-05-23T02:28:56.090991Z",
     "iopub.status.idle": "2023-05-23T02:29:37.986536Z",
     "shell.execute_reply": "2023-05-23T02:29:37.985624Z"
    },
    "papermill": {
     "duration": 43.934486,
     "end_time": "2023-05-23T02:29:37.989177",
     "exception": false,
     "start_time": "2023-05-23T02:28:54.054691",
     "status": "completed"
    },
    "tags": []
   },
   "outputs": [
    {
     "name": "stdout",
     "output_type": "stream",
     "text": [
      "408/408 [==============================] - 32s 79ms/step\n",
      "Confusion Matrix\n",
      "[[17  8  5  6  3 16 14 19 17 18 10 20 18 25 22 21 13 13 16 10 19 17 12 15\n",
      "  19 14 13 20 19 15]\n",
      " [18  9  8  4  9 10 21  8 15  8 10 11 14 12  9 25 15 22  9 14 16 21 17 12\n",
      "   5 18 10 21 11 17]\n",
      " [ 7  6  6  3  2  6  7  3  9  7 11  6  8  6  5 10  9  8  9 11  5  8 11 10\n",
      "  11  7  7  7 10  7]\n",
      " [11 10  5  5  4  6 10  5  5  6  8 11  9 13  7 13 13  8  8 12 10 10 13  8\n",
      "   9 11  6 16  7 11]\n",
      " [ 6  8  2 10  6  9  7 12  6  6 11 11  9  5  7  8  8  3  7  5  8  9 11  9\n",
      "   5  6 10  8  9  3]\n",
      " [12 18  5 11  6 19 11 17 22 11 10 20 10 17 14 15 17 12 14  7  9 19 12 15\n",
      "  13 15 14 17 10 10]\n",
      " [23  9  8 11  8 10 19 12 12 13 10 17 19 14 12 16 13 11 13 11 13 11 15 10\n",
      "  18 14 15 11  9 16]\n",
      " [17 12  9  7  9 15 15 17 15 18 25 14 29 14 19 26 17 26 11 16 14 12 14 13\n",
      "  10 14 21 18 10 15]\n",
      " [12 13  8 15  9 15 20 11 16 11 17  8 21 15 14 20 18 22 30 21 11 23 17 17\n",
      "  15  6 21 17 18 19]\n",
      " [14 13  4  9  4 14 12 15 16 15 10  8 22 23 19  9  9 16 11 13 14 20 11 17\n",
      "  20 21 15 23 16 17]\n",
      " [19 13  5 13 11 17 12  8 16 19 19  8 18 17 18 15 12 20 16  9 15 11  8 21\n",
      "  12 14 18 10 15 14]\n",
      " [15 14  5  5 10 15 13 14 20 17  4  6 10 16 19 16 11 21 13 15 13 13 17 15\n",
      "  11 15 15 13 20 19]\n",
      " [13 15  5  9  8 14 13 19 22 21 23  9 16 21 15 22 14 15 16 25 10 19 18 14\n",
      "  13 17 19 20 19 20]\n",
      " [16 14 10  5  6 17 14 21 20 18 22  8 14 18 19 20 13 22 22 20 13 16 15 16\n",
      "  18 13 15 20 15 22]\n",
      " [19 21 11 16  9 15 15 20 20 15 12 13 19 18 27 19 18 20 17 14 13 20 16 18\n",
      "  17 14  9 15 25 21]\n",
      " [18 17  8 16  9 15 14 19  9 18 16 14 21 17 18 29 17 21 23 21 27 21 27 18\n",
      "  15 13 18 17 19 15]\n",
      " [11 20  5 12  7  9 15 17 24 11 22 18 10 18 20 22 20 16 14 17 18 24 19 20\n",
      "  17 15 13 11 15 18]\n",
      " [19 22  4 11 10 14 12 18 20 20 10 19 15 19 25 25 19 15 15 19 14 20 16 14\n",
      "  17 17 18 15 19 16]\n",
      " [24 12  6 10  7  4 10 23 11 13 15 19 23 12 19 24 19 14 18 16 11 13 15 17\n",
      "  13 16 19 11 16 14]\n",
      " [20 12  7  7  6  7 12 16 22 13 12  9 11 17 17 20 19 13 20  9 18 16 22 22\n",
      "  16 16 21 22 17 17]\n",
      " [10 16  9  8  3  9  6 18 19 15 12 19 13 18 16 13 14 20 18 11 21 18 14 13\n",
      "  15 21 10 13 17 16]\n",
      " [14 15  8  7 16 10 14 15 20 16 15 17 11 11 21 21 21 15 12 27 23 13 12 19\n",
      "  19 13 19 15 13 28]\n",
      " [11 18 10  7  8 10 16 19 15 25 14 11 23 15 23 23 23 18  5 25 14 12 15 20\n",
      "  11 10 12 19 17 14]\n",
      " [13 16 12  9  8 16  9 19 14 13 11 13 12 18 19 22 17 15 15 13 13 23 20 16\n",
      "  19 22 14 24 14 21]\n",
      " [15  8  9  8  8 21 20 13 11 13 16 17 17 14 21  9 19 17 15 21 11 12 11 21\n",
      "  10 12 13 17 17 20]\n",
      " [11 11 13  8 10 20 12 18 18  9 11 12 10 15 22 14 18 11 12  9 14 15 18 18\n",
      "  21 14 18 16 14 23]\n",
      " [11 11  7  9  5 24 13 16 20 19 11  9 23 16 14 12 18 23 17 25 11 17 14 16\n",
      "  18 22 15 18 11 12]\n",
      " [14 11 10 11  8 16 10 22 18 18 22 11 27 21 22 18 19 17 18 21 20 15 20  9\n",
      "  16 10 22 18 17  9]\n",
      " [14 12  6  8 11 15 15 20 12 11 18 12 11 13 12 22 12 22 13  8 15 18 10 21\n",
      "  22 17 19 19 14 26]\n",
      " [27 15 12 10  4 14 12 15 20 15 15 19 18 24 15 22 23 20 17 13  9 17 10 19\n",
      "  11 12 21 18 18 16]]\n",
      "Classification Report\n",
      "                                               precision    recall  f1-score   support\n",
      "\n",
      "                          Blueberry___healthy       0.04      0.04      0.04       454\n",
      "                               Blueberry_rust       0.02      0.02      0.02       399\n",
      "                                Chilli_gemini       0.03      0.03      0.03       222\n",
      "                               Chilli_healthy       0.02      0.02      0.02       270\n",
      "                                Chilli_mosaic       0.03      0.03      0.03       224\n",
      "                              Cucumber_blight       0.05      0.05      0.05       402\n",
      "                             Cucumber_healthy       0.05      0.05      0.05       393\n",
      "                            Grape___Black_rot       0.04      0.04      0.04       472\n",
      "                 Grape___Esca_(Black_Measles)       0.03      0.03      0.03       480\n",
      "   Grape___Leaf_blight_(Isariopsis_Leaf_Spot)       0.03      0.03      0.03       430\n",
      "                              Grape___healthy       0.05      0.04      0.04       423\n",
      "                            Lettuce_bacterial       0.02      0.01      0.02       410\n",
      "                                Lettuce_downy       0.03      0.03      0.03       484\n",
      "                              Lettuce_healthy       0.04      0.04      0.04       482\n",
      "                              Lettuce_powdery       0.05      0.05      0.05       506\n",
      "                             Lettuce_septoria       0.05      0.05      0.05       530\n",
      "                Pepper,_bell___Bacterial_spot       0.04      0.04      0.04       478\n",
      "                       Pepper,_bell___healthy       0.03      0.03      0.03       497\n",
      "                     Strawberry___Leaf_scorch       0.04      0.04      0.04       444\n",
      "                         Strawberry___healthy       0.02      0.02      0.02       456\n",
      "                      Tomato___Bacterial_spot       0.05      0.05      0.05       425\n",
      "                        Tomato___Early_blight       0.03      0.03      0.03       480\n",
      "                         Tomato___Late_blight       0.03      0.03      0.03       463\n",
      "                           Tomato___Leaf_Mold       0.03      0.03      0.03       470\n",
      "                  Tomato___Septoria_leaf_spot       0.02      0.02      0.02       436\n",
      "Tomato___Spider_mites Two-spotted_spider_mite       0.03      0.03      0.03       435\n",
      "                         Tomato___Target_Spot       0.03      0.03      0.03       457\n",
      "       Tomato___Tomato_Yellow_Leaf_Curl_Virus       0.04      0.04      0.04       490\n",
      "                 Tomato___Tomato_mosaic_virus       0.03      0.03      0.03       448\n",
      "                             Tomato___healthy       0.03      0.03      0.03       481\n",
      "\n",
      "                                     accuracy                           0.04     13041\n",
      "                                    macro avg       0.03      0.03      0.03     13041\n",
      "                                 weighted avg       0.04      0.04      0.04     13041\n",
      "\n"
     ]
    }
   ],
   "source": [
    "import numpy as np\n",
    "#confusion Matrix\n",
    "from sklearn.metrics import classification_report, confusion_matrix\n",
    "y_pred = CNN.predict(validation_generator)\n",
    "\n",
    "y_pred = np.argmax(y_pred, axis=1)\n",
    "print('Confusion Matrix')\n",
    "print(confusion_matrix(validation_generator.classes, y_pred))\n",
    "print('Classification Report')\n",
    "target_names =li ## ['Peach___Bacterial_spot', 'Grape___Black_rot', 'Tomato___Tomato_Yellow_Leaf_Curl_Virus']\n",
    "print(classification_report(validation_generator.classes, y_pred, target_names=target_names))"
   ]
  },
  {
   "cell_type": "code",
   "execution_count": 11,
   "id": "c1be7111",
   "metadata": {
    "execution": {
     "iopub.execute_input": "2023-05-23T02:29:42.427499Z",
     "iopub.status.busy": "2023-05-23T02:29:42.427148Z",
     "iopub.status.idle": "2023-05-23T02:29:44.803938Z",
     "shell.execute_reply": "2023-05-23T02:29:44.802945Z"
    },
    "papermill": {
     "duration": 4.811554,
     "end_time": "2023-05-23T02:29:44.806448",
     "exception": false,
     "start_time": "2023-05-23T02:29:39.994894",
     "status": "completed"
    },
    "tags": []
   },
   "outputs": [
    {
     "name": "stdout",
     "output_type": "stream",
     "text": [
      "1/1 [==============================] - 0s 347ms/step\n",
      "Image: TomatoEarlyBlight6.JPG, Class: Tomato___Early_blight\n",
      "1/1 [==============================] - 0s 22ms/step\n",
      "Image: TomatoYellowCurlVirus4.JPG, Class: Tomato___Tomato_Yellow_Leaf_Curl_Virus\n",
      "1/1 [==============================] - 0s 20ms/step\n",
      "Image: TomatoYellowCurlVirus6.JPG, Class: Tomato___Tomato_Yellow_Leaf_Curl_Virus\n",
      "1/1 [==============================] - 0s 22ms/step\n",
      "Image: Chilli_gemini.png, Class: Chilli_gemini\n",
      "1/1 [==============================] - 0s 22ms/step\n",
      "Image: Chilli_healtty.png, Class: Chilli_healthy\n",
      "1/1 [==============================] - 0s 21ms/step\n",
      "Image: TomatoYellowCurlVirus5.JPG, Class: Tomato___Tomato_Yellow_Leaf_Curl_Virus\n",
      "1/1 [==============================] - 0s 21ms/step\n",
      "Image: Cucumber_healthy (2).png, Class: Cucumber_healthy\n",
      "1/1 [==============================] - 0s 21ms/step\n",
      "Image: TomatoYellowCurlVirus3.JPG, Class: Tomato___Tomato_Yellow_Leaf_Curl_Virus\n",
      "1/1 [==============================] - 0s 22ms/step\n",
      "Image: TomatoEarlyBlight3.JPG, Class: Tomato___Early_blight\n",
      "1/1 [==============================] - 0s 21ms/step\n",
      "Image: Cucumber_healthy (1).png, Class: Chilli_healthy\n",
      "1/1 [==============================] - 0s 22ms/step\n",
      "Image: TomatoEarlyBlight5.JPG, Class: Tomato___Early_blight\n",
      "1/1 [==============================] - 0s 25ms/step\n",
      "Image: TomatoHealthy2.JPG, Class: Tomato___healthy\n",
      "1/1 [==============================] - 0s 21ms/step\n",
      "Image: Blueberry_rust.png, Class: Strawberry___Leaf_scorch\n",
      "1/1 [==============================] - 0s 20ms/step\n",
      "Image: bb_rust.png, Class: Grape___Black_rot\n",
      "1/1 [==============================] - 0s 21ms/step\n",
      "Image: TomatoEarlyBlight2.JPG, Class: Tomato___Early_blight\n",
      "1/1 [==============================] - 0s 21ms/step\n",
      "Image: rapsber.png, Class: Strawberry___Leaf_scorch\n",
      "1/1 [==============================] - 0s 21ms/step\n",
      "Image: TomatoYellowCurlVirus2.JPG, Class: Tomato___Tomato_Yellow_Leaf_Curl_Virus\n",
      "1/1 [==============================] - 0s 21ms/step\n",
      "Image: ras.png, Class: Cucumber_blight\n",
      "1/1 [==============================] - 0s 23ms/step\n",
      "Image: TomatoEarlyBlight4.JPG, Class: Tomato___Early_blight\n",
      "1/1 [==============================] - 0s 21ms/step\n",
      "Image: TomatoHealthy3.JPG, Class: Tomato___healthy\n",
      "1/1 [==============================] - 0s 21ms/step\n",
      "Image: belpper_bvac.png, Class: Blueberry_rust\n",
      "1/1 [==============================] - 0s 21ms/step\n",
      "Image: TomatoHealthy1.JPG, Class: Tomato___healthy\n",
      "1/1 [==============================] - 0s 20ms/step\n",
      "Image: TomatoYellowCurlVirus1.JPG, Class: Tomato___Tomato_Yellow_Leaf_Curl_Virus\n",
      "1/1 [==============================] - 0s 21ms/step\n",
      "Image: Strawberry_sorch.png, Class: Strawberry___Leaf_scorch\n",
      "1/1 [==============================] - 0s 22ms/step\n",
      "Image: Cucumber_blight.png, Class: Cucumber_blight\n",
      "1/1 [==============================] - 0s 21ms/step\n",
      "Image: berlpper_bac.png, Class: Cucumber_blight\n",
      "1/1 [==============================] - 0s 22ms/step\n",
      "Image: TomatoEarlyBlight1.JPG, Class: Tomato___Early_blight\n",
      "1/1 [==============================] - 0s 22ms/step\n",
      "Image: TomatoHealthy4.JPG, Class: Tomato___healthy\n"
     ]
    }
   ],
   "source": [
    "import os\n",
    "from PIL import Image\n",
    "import numpy as np\n",
    "from keras.models import load_model\n",
    "# Load the trained model\n",
    "model = CNN\n",
    "\n",
    "# Define the image size and preprocessing function\n",
    "img_size = (224, 224)\n",
    "def preprocess_image(img_path):\n",
    "    img = Image.open(img_path).convert('RGB')\n",
    "    img = img.resize(img_size)\n",
    "    img = np.array(img) / 255.0\n",
    "    img = np.expand_dims(img, axis=0)\n",
    "    return img\n",
    "\n",
    "# Set the path to the image folder\n",
    "img_folder = test_dir\n",
    "class_names = list(train_generator.class_indices.keys())\n",
    "# Loop through all the images in the folder and make predictions\n",
    "for filename in os.listdir(img_folder):\n",
    "    img_path = os.path.join(img_folder, filename)\n",
    "    img = preprocess_image(img_path)\n",
    "    pred = model.predict(img)\n",
    "    class_idx = np.argmax(pred)\n",
    "    class_name = class_names[class_idx]\n",
    "    print(f'Image: {filename}, Class: {class_name}')"
   ]
  },
  {
   "cell_type": "code",
   "execution_count": 12,
   "id": "1c8b67c1",
   "metadata": {
    "execution": {
     "iopub.execute_input": "2023-05-23T02:29:48.880607Z",
     "iopub.status.busy": "2023-05-23T02:29:48.880244Z",
     "iopub.status.idle": "2023-05-23T02:30:29.976571Z",
     "shell.execute_reply": "2023-05-23T02:30:29.975652Z"
    },
    "papermill": {
     "duration": 43.126439,
     "end_time": "2023-05-23T02:30:29.979150",
     "exception": false,
     "start_time": "2023-05-23T02:29:46.852711",
     "status": "completed"
    },
    "tags": []
   },
   "outputs": [
    {
     "name": "stdout",
     "output_type": "stream",
     "text": [
      "408/408 [==============================] - 31s 77ms/step\n",
      "Confusion Matrix\n",
      "[[16 16  9 11  9 12 13 17 13 14 17 13 15 16 15 19 16 17 18 10 15 15 21 23\n",
      "  13 10 12 24 21 14]\n",
      " [10  9  8  8 13 13  9 11 15 13 11 12 18 11 17 15 10 18  4 18 22 10 16 16\n",
      "  12 15 14 17 13 21]\n",
      " [ 6  5  5  4  2  5  6  5 14  5 13  7 10  6 12  9 10  8  9 11  5  2  7  5\n",
      "  12  7 10  7  8  7]\n",
      " [12  9  5  8  2  7  7  8  7  9 12  8  9 11 11  9  6 10 10 10 14 12  9 10\n",
      "   6  6  7 14 10 12]\n",
      " [12  6  1  8  2  7 11  8  5  3  4  6  7 13  7 10  5  7  9  9  6 12  4  9\n",
      "   8  6 11 13  4 11]\n",
      " [ 9 22 10 10  7  8 12 12 20 12  9 16 18  9 13 19 15 13 22 12 15 11  8 15\n",
      "  15 15 15 15  9 16]\n",
      " [21 15  8  7  7 11 16  9 15 10 12  5 16  9 15 22 15 11 12 19 14 16 13 13\n",
      "  13 14 15 11 15 14]\n",
      " [12 14  9  8 12 12 15 15 15 14 19 16 26 17 24 18 17 21 12 14  8 24 19 17\n",
      "  21 18 18 13 13 11]\n",
      " [18 19  6 11  6 17 20 22 23 10 19 23 17 11 22 15 13 16 17 16 12 20 20 17\n",
      "  15  8 14 15 20 18]\n",
      " [15 20 11  3 11 12 10 19 15 19  9 12 16 19 16 24 13 10 13 14 13 11 13 15\n",
      "  17  7 24 15 15 19]\n",
      " [11 13  8  7 12 10 13 22 14 12 15 13 20  6  9 18 15 20 11 12 16 13 14 22\n",
      "  11 23 12 11 19 21]\n",
      " [10 11  4 10  9  9 19 14 14 15  8 13 18 15 19 18 23 12  7  9  6 17 25 17\n",
      "  19  8 18 20 11 12]\n",
      " [17 11  7 13  7 11  9 20 14 17 18  9 12 24 25 19 27 17 14 18 14 16 17 21\n",
      "  16 22 15 11 24 19]\n",
      " [19 14  6  8  7 23 11 15 18 17 21 15 19 24 13 17 15 28 11 20 17 22 15 16\n",
      "  15 15 14 10 21 16]\n",
      " [13 15 12 10  9 17 14 10 16 25 19 12 16 23 24 20 22 21 18 15 17 24 11 19\n",
      "  10 18 14 27 15 20]\n",
      " [24 19  6  7  8 28 20 25 23 16 17 14 19 11 15 16 19 22 16 22 17 18 15 14\n",
      "  24 16 17 23 18 21]\n",
      " [21  9 14  7 11 19 10 14 23 12 14 16 22 23 21 12 23 16 14 19 15 14 15 24\n",
      "  22 10 15 22  9 12]\n",
      " [11  8  8 10  4 17 15 13 20 20 20 13 19 19 12 29 23 16 22 16 23 16 15 23\n",
      "  10 18 15 17 22 23]\n",
      " [13 15  7  9 11 12 12 12 13 13 12 16 18 13 18 16 19  9 18 23 19  9 19 14\n",
      "  13 15 19 21 15 21]\n",
      " [22 14  6  9  7 11  8 28 17 23 23 15 12 19 14 14 17 18 20 16 15 16 13  8\n",
      "  24 13 12 18 10 14]\n",
      " [17  9  9 12  5 21 12 13  7 16 11 12 14 20 20 18 11 18 20 14 16 14  9 13\n",
      "  17 12 18 18 13 16]\n",
      " [12 16  9  9  4 14 18 19 19 16 15 16 16 19 23 17 16 17 16 15 11 14 25 18\n",
      "  17 16 23 16 11 23]\n",
      " [14  7  7 11 12 13 15 16 18 13  6 11 12 19 11 28 24 13 15 16 19 22 15 17\n",
      "  20 21 10 20 17 21]\n",
      " [12 13  4 14  6  9 12 21 14 17 21 15 18 15 16 25 24 20 13 15 13 18 12 20\n",
      "  17 16 17 23 15 15]\n",
      " [15 12  7 13  4 16 17 14 25 13 14 15 18 18 20 21 11 11 17 12  9 16 18  7\n",
      "  13 12 16 24 16 12]\n",
      " [25  8  6  5  8 14 16 15 20 15  9 10 15 14 18 19 13 27 15 14  8 22 17 15\n",
      "  13 16 12  7 22 17]\n",
      " [24 18  7 10  6  9 15 17 19 16  8 11 15 24 20 23 14 21 22 17  9 14 20 11\n",
      "   5 17 19 16 20 10]\n",
      " [11 18  9  8 10 23 17 14 10 18 18 18 14 20 21 27 12 20 24 19 15 25 13  9\n",
      "  17 18 21 15 10 16]\n",
      " [14 20  8  8  3 15 10 18 17 16 14  8 18 18 16 14 14 19 13 12 19 25 20 20\n",
      "  12 16 18 15 16 12]\n",
      " [15 14  6 12 10  7 11 23 21 13 14 19 14 16 23 20 16 20 12 21 20 15 12 25\n",
      "   9 21 15 11 19 27]]\n",
      "Classification Report\n",
      "                                               precision    recall  f1-score   support\n",
      "\n",
      "                          Blueberry___healthy       0.04      0.04      0.04       454\n",
      "                               Blueberry_rust       0.02      0.02      0.02       399\n",
      "                                Chilli_gemini       0.02      0.02      0.02       222\n",
      "                               Chilli_healthy       0.03      0.03      0.03       270\n",
      "                                Chilli_mosaic       0.01      0.01      0.01       224\n",
      "                              Cucumber_blight       0.02      0.02      0.02       402\n",
      "                             Cucumber_healthy       0.04      0.04      0.04       393\n",
      "                            Grape___Black_rot       0.03      0.03      0.03       472\n",
      "                 Grape___Esca_(Black_Measles)       0.05      0.05      0.05       480\n",
      "   Grape___Leaf_blight_(Isariopsis_Leaf_Spot)       0.04      0.04      0.04       430\n",
      "                              Grape___healthy       0.04      0.04      0.04       423\n",
      "                            Lettuce_bacterial       0.03      0.03      0.03       410\n",
      "                                Lettuce_downy       0.02      0.02      0.02       484\n",
      "                              Lettuce_healthy       0.05      0.05      0.05       482\n",
      "                              Lettuce_powdery       0.05      0.05      0.05       506\n",
      "                             Lettuce_septoria       0.03      0.03      0.03       530\n",
      "                Pepper,_bell___Bacterial_spot       0.05      0.05      0.05       478\n",
      "                       Pepper,_bell___healthy       0.03      0.03      0.03       497\n",
      "                     Strawberry___Leaf_scorch       0.04      0.04      0.04       444\n",
      "                         Strawberry___healthy       0.03      0.04      0.04       456\n",
      "                      Tomato___Bacterial_spot       0.04      0.04      0.04       425\n",
      "                        Tomato___Early_blight       0.03      0.03      0.03       480\n",
      "                         Tomato___Late_blight       0.03      0.03      0.03       463\n",
      "                           Tomato___Leaf_Mold       0.04      0.04      0.04       470\n",
      "                  Tomato___Septoria_leaf_spot       0.03      0.03      0.03       436\n",
      "Tomato___Spider_mites Two-spotted_spider_mite       0.04      0.04      0.04       435\n",
      "                         Tomato___Target_Spot       0.04      0.04      0.04       457\n",
      "       Tomato___Tomato_Yellow_Leaf_Curl_Virus       0.03      0.03      0.03       490\n",
      "                 Tomato___Tomato_mosaic_virus       0.04      0.04      0.04       448\n",
      "                             Tomato___healthy       0.05      0.06      0.06       481\n",
      "\n",
      "                                     accuracy                           0.04     13041\n",
      "                                    macro avg       0.04      0.04      0.04     13041\n",
      "                                 weighted avg       0.04      0.04      0.04     13041\n",
      "\n"
     ]
    }
   ],
   "source": [
    "#confusion Matrix\n",
    "from sklearn.metrics import classification_report, confusion_matrix\n",
    "y_pred = CNN.predict(validation_generator)\n",
    "\n",
    "y_pred = np.argmax(y_pred, axis=1)\n",
    "print('Confusion Matrix')\n",
    "print(confusion_matrix(validation_generator.classes, y_pred))\n",
    "print('Classification Report')\n",
    "target_names = list(train_generator.class_indices.keys()) ## ['Peach___Bacterial_spot', 'Grape___Black_rot', 'Tomato___Tomato_Yellow_Leaf_Curl_Virus']\n",
    "print(classification_report(validation_generator.classes, y_pred, target_names=target_names))"
   ]
  }
 ],
 "metadata": {
  "kernelspec": {
   "display_name": "Python 3",
   "language": "python",
   "name": "python3"
  },
  "language_info": {
   "codemirror_mode": {
    "name": "ipython",
    "version": 3
   },
   "file_extension": ".py",
   "mimetype": "text/x-python",
   "name": "python",
   "nbconvert_exporter": "python",
   "pygments_lexer": "ipython3",
   "version": "3.10.10"
  },
  "papermill": {
   "default_parameters": {},
   "duration": 11639.639995,
   "end_time": "2023-05-23T02:30:35.298440",
   "environment_variables": {},
   "exception": null,
   "input_path": "__notebook__.ipynb",
   "output_path": "__notebook__.ipynb",
   "parameters": {},
   "start_time": "2023-05-22T23:16:35.658445",
   "version": "2.4.0"
  }
 },
 "nbformat": 4,
 "nbformat_minor": 5
}
