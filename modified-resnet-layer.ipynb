{
 "cells": [
  {
   "cell_type": "code",
   "execution_count": 1,
   "id": "75a4f9f8",
   "metadata": {
    "_cell_guid": "b1076dfc-b9ad-4769-8c92-a6c4dae69d19",
    "_uuid": "8f2839f25d086af736a60e9eeb907d3b93b6e0e5",
    "execution": {
     "iopub.execute_input": "2023-06-02T16:16:46.176254Z",
     "iopub.status.busy": "2023-06-02T16:16:46.175089Z",
     "iopub.status.idle": "2023-06-02T16:16:52.932753Z",
     "shell.execute_reply": "2023-06-02T16:16:52.931610Z"
    },
    "papermill": {
     "duration": 6.767801,
     "end_time": "2023-06-02T16:16:52.935284",
     "exception": false,
     "start_time": "2023-06-02T16:16:46.167483",
     "status": "completed"
    },
    "tags": []
   },
   "outputs": [
    {
     "name": "stderr",
     "output_type": "stream",
     "text": [
      "/opt/conda/lib/python3.10/site-packages/scipy/__init__.py:146: UserWarning: A NumPy version >=1.16.5 and <1.23.0 is required for this version of SciPy (detected version 1.23.5\n",
      "  warnings.warn(f\"A NumPy version >={np_minversion} and <{np_maxversion}\"\n"
     ]
    }
   ],
   "source": [
    "import os\n",
    "\n",
    "import tensorflow as tf\n",
    "from tensorflow.keras import Model, callbacks\n",
    "from tensorflow.keras.layers import (Dense, Dropout, GlobalAveragePooling2D,\n",
    "                                     Input)\n",
    "from tensorflow.keras.metrics import TopKCategoricalAccuracy\n",
    "from tensorflow.keras.preprocessing.image import ImageDataGenerator\n",
    "from tensorflow.keras.optimizers import Adam\n",
    "import matplotlib.pyplot as plt\n",
    "from tensorflow.keras.models import Sequential\n",
    "from tensorflow.keras.layers import Conv2D,MaxPooling2D,Convolution2D,Activation,Flatten,Dense,Dropout,MaxPool2D,BatchNormalization\n",
    "\n"
   ]
  },
  {
   "cell_type": "code",
   "execution_count": 2,
   "id": "5b4b12a0",
   "metadata": {
    "execution": {
     "iopub.execute_input": "2023-06-02T16:16:52.945193Z",
     "iopub.status.busy": "2023-06-02T16:16:52.944554Z",
     "iopub.status.idle": "2023-06-02T16:16:52.959432Z",
     "shell.execute_reply": "2023-06-02T16:16:52.958354Z"
    },
    "papermill": {
     "duration": 0.021918,
     "end_time": "2023-06-02T16:16:52.961505",
     "exception": false,
     "start_time": "2023-06-02T16:16:52.939587",
     "status": "completed"
    },
    "tags": []
   },
   "outputs": [
    {
     "name": "stdout",
     "output_type": "stream",
     "text": [
      "Jumlah class : 30\n"
     ]
    }
   ],
   "source": [
    "train_dir = '/kaggle/input/tes2plant/Valid/Train'\n",
    "val_dir = '/kaggle/input/tes2plant/Valid/Valid'\n",
    "test_dir = '/kaggle/input/tes2plant/Valid/test'\n",
    "\n",
    "disease = os.listdir(train_dir)\n",
    "print(f'Jumlah class : {len(disease)}')"
   ]
  },
  {
   "cell_type": "code",
   "execution_count": 3,
   "id": "3f7d0c92",
   "metadata": {
    "execution": {
     "iopub.execute_input": "2023-06-02T16:16:52.970772Z",
     "iopub.status.busy": "2023-06-02T16:16:52.970453Z",
     "iopub.status.idle": "2023-06-02T16:17:15.525393Z",
     "shell.execute_reply": "2023-06-02T16:17:15.524382Z"
    },
    "papermill": {
     "duration": 22.562125,
     "end_time": "2023-06-02T16:17:15.527598",
     "exception": false,
     "start_time": "2023-06-02T16:16:52.965473",
     "status": "completed"
    },
    "tags": []
   },
   "outputs": [
    {
     "name": "stdout",
     "output_type": "stream",
     "text": [
      "Found 52149 images belonging to 30 classes.\n",
      "Found 13041 images belonging to 30 classes.\n"
     ]
    }
   ],
   "source": [
    "from tensorflow.keras.preprocessing.image import ImageDataGenerator\n",
    "\n",
    "train_datagen = ImageDataGenerator(rescale = 1/255,\n",
    "                                    shear_range = 0.2,\n",
    "                                    zoom_range = 0.2,\n",
    "                                    fill_mode = 'nearest',\n",
    "                                    rotation_range = 20,\n",
    "                                    width_shift_range = 0.2,\n",
    "                                    height_shift_range = 0.2,\n",
    "                                    horizontal_flip= True\n",
    ")\n",
    "\n",
    "validation_datagen = ImageDataGenerator(rescale = 1/255)\n",
    "\n",
    "train_generator = train_datagen.flow_from_directory(\n",
    "    train_dir,\n",
    "    target_size = (224,224),\n",
    "    batch_size = 32,\n",
    "    class_mode = 'categorical'\n",
    ")\n",
    "\n",
    "validation_generator = validation_datagen.flow_from_directory(\n",
    "    val_dir,\n",
    "    target_size = (224,224),\n",
    "    batch_size = 32,\n",
    "    class_mode = 'categorical'\n",
    ")\n",
    "\n"
   ]
  },
  {
   "cell_type": "code",
   "execution_count": 4,
   "id": "4d7c4d91",
   "metadata": {
    "execution": {
     "iopub.execute_input": "2023-06-02T16:17:15.538172Z",
     "iopub.status.busy": "2023-06-02T16:17:15.537116Z",
     "iopub.status.idle": "2023-06-02T16:17:18.517771Z",
     "shell.execute_reply": "2023-06-02T16:17:18.516941Z"
    },
    "papermill": {
     "duration": 3.103799,
     "end_time": "2023-06-02T16:17:18.635777",
     "exception": false,
     "start_time": "2023-06-02T16:17:15.531978",
     "status": "completed"
    },
    "tags": []
   },
   "outputs": [
    {
     "name": "stdout",
     "output_type": "stream",
     "text": [
      "Model: \"sequential\"\n",
      "_________________________________________________________________\n",
      " Layer (type)                Output Shape              Param #   \n",
      "=================================================================\n",
      " conv2d (Conv2D)             (None, 224, 224, 64)      1792      \n",
      "                                                                 \n",
      " batch_normalization (BatchN  (None, 224, 224, 64)     256       \n",
      " ormalization)                                                   \n",
      "                                                                 \n",
      " activation (Activation)     (None, 224, 224, 64)      0         \n",
      "                                                                 \n",
      " conv2d_1 (Conv2D)           (None, 224, 224, 128)     73856     \n",
      "                                                                 \n",
      " batch_normalization_1 (Batc  (None, 224, 224, 128)    512       \n",
      " hNormalization)                                                 \n",
      "                                                                 \n",
      " activation_1 (Activation)   (None, 224, 224, 128)     0         \n",
      "                                                                 \n",
      " max_pooling2d (MaxPooling2D  (None, 74, 74, 128)      0         \n",
      " )                                                               \n",
      "                                                                 \n",
      " conv2d_2 (Conv2D)           (None, 74, 74, 128)       147584    \n",
      "                                                                 \n",
      " batch_normalization_2 (Batc  (None, 74, 74, 128)      512       \n",
      " hNormalization)                                                 \n",
      "                                                                 \n",
      " activation_2 (Activation)   (None, 74, 74, 128)       0         \n",
      "                                                                 \n",
      " conv2d_3 (Conv2D)           (None, 74, 74, 128)       147584    \n",
      "                                                                 \n",
      " batch_normalization_3 (Batc  (None, 74, 74, 128)      512       \n",
      " hNormalization)                                                 \n",
      "                                                                 \n",
      " activation_3 (Activation)   (None, 74, 74, 128)       0         \n",
      "                                                                 \n",
      " conv2d_4 (Conv2D)           (None, 74, 74, 256)       295168    \n",
      "                                                                 \n",
      " batch_normalization_4 (Batc  (None, 74, 74, 256)      1024      \n",
      " hNormalization)                                                 \n",
      "                                                                 \n",
      " activation_4 (Activation)   (None, 74, 74, 256)       0         \n",
      "                                                                 \n",
      " max_pooling2d_1 (MaxPooling  (None, 24, 24, 256)      0         \n",
      " 2D)                                                             \n",
      "                                                                 \n",
      " conv2d_5 (Conv2D)           (None, 24, 24, 512)       1180160   \n",
      "                                                                 \n",
      " batch_normalization_5 (Batc  (None, 24, 24, 512)      2048      \n",
      " hNormalization)                                                 \n",
      "                                                                 \n",
      " activation_5 (Activation)   (None, 24, 24, 512)       0         \n",
      "                                                                 \n",
      " max_pooling2d_2 (MaxPooling  (None, 8, 8, 512)        0         \n",
      " 2D)                                                             \n",
      "                                                                 \n",
      " conv2d_6 (Conv2D)           (None, 8, 8, 512)         2359808   \n",
      "                                                                 \n",
      " batch_normalization_6 (Batc  (None, 8, 8, 512)        2048      \n",
      " hNormalization)                                                 \n",
      "                                                                 \n",
      " activation_6 (Activation)   (None, 8, 8, 512)         0         \n",
      "                                                                 \n",
      " conv2d_7 (Conv2D)           (None, 8, 8, 512)         2359808   \n",
      "                                                                 \n",
      " batch_normalization_7 (Batc  (None, 8, 8, 512)        2048      \n",
      " hNormalization)                                                 \n",
      "                                                                 \n",
      " activation_7 (Activation)   (None, 8, 8, 512)         0         \n",
      "                                                                 \n",
      " max_pooling2d_3 (MaxPooling  (None, 2, 2, 512)        0         \n",
      " 2D)                                                             \n",
      "                                                                 \n",
      " flatten (Flatten)           (None, 2048)              0         \n",
      "                                                                 \n",
      " dense (Dense)               (None, 2048)              4196352   \n",
      "                                                                 \n",
      " dropout (Dropout)           (None, 2048)              0         \n",
      "                                                                 \n",
      " dense_1 (Dense)             (None, 2048)              4196352   \n",
      "                                                                 \n",
      " dropout_1 (Dropout)         (None, 2048)              0         \n",
      "                                                                 \n",
      " dense_2 (Dense)             (None, 30)                61470     \n",
      "                                                                 \n",
      "=================================================================\n",
      "Total params: 15,028,894\n",
      "Trainable params: 15,024,414\n",
      "Non-trainable params: 4,480\n",
      "_________________________________________________________________\n"
     ]
    }
   ],
   "source": [
    "CNN = Sequential()\n",
    "\n",
    "CNN.add(Conv2D(64, kernel_size=(3,3), padding='same', input_shape = (224,224,3)))\n",
    "CNN.add(BatchNormalization())\n",
    "CNN.add(Activation('relu'))\n",
    "CNN.add(Conv2D(128, kernel_size=(3,3), padding='same', input_shape = (224,224,3)))\n",
    "CNN.add(BatchNormalization())\n",
    "CNN.add(Activation('relu'))\n",
    "CNN.add(MaxPool2D(pool_size=(3, 3)))\n",
    "\n",
    "CNN.add(Conv2D(128, kernel_size=(3,3), padding='same', input_shape = (224,224,3)))\n",
    "CNN.add(BatchNormalization())\n",
    "CNN.add(Activation('relu'))\n",
    "CNN.add(Conv2D(128, kernel_size=(3,3), padding='same', input_shape = (224,224,3)))\n",
    "CNN.add(BatchNormalization())\n",
    "CNN.add(Activation('relu'))\n",
    "\n",
    "CNN.add(Conv2D(256, kernel_size=(3,3), padding='same', input_shape = (224,224,3)))\n",
    "CNN.add(BatchNormalization())\n",
    "CNN.add(Activation('relu'))\n",
    "CNN.add(MaxPool2D(pool_size=(3, 3)))\n",
    "\n",
    "CNN.add(Conv2D(512, kernel_size=(3,3), padding='same', input_shape = (224,224,3)))\n",
    "CNN.add(BatchNormalization())\n",
    "CNN.add(Activation('relu'))\n",
    "CNN.add(MaxPool2D(pool_size=(3, 3)))\n",
    "\n",
    "CNN.add(Conv2D(512, kernel_size=(3,3), padding='same', input_shape = (224,224,3)))\n",
    "CNN.add(BatchNormalization())\n",
    "CNN.add(Activation('relu'))\n",
    "\n",
    "CNN.add(Conv2D(512, kernel_size=(3,3), padding='same', input_shape = (224,224,3)))\n",
    "CNN.add(BatchNormalization())\n",
    "CNN.add(Activation('relu'))\n",
    "CNN.add(MaxPool2D(pool_size=(3, 3)))\n",
    "\n",
    "CNN.add(Flatten())\n",
    "CNN.add(Dense(2048, activation='relu'))\n",
    "CNN.add(Dropout(0.5))\n",
    "CNN.add(Dense(2048, activation='relu'))\n",
    "CNN.add(Dropout(0.5))\n",
    "CNN.add(Dense(30, activation='softmax'))\n",
    "\n",
    "CNN.summary()"
   ]
  },
  {
   "cell_type": "code",
   "execution_count": 5,
   "id": "c9e69bdc",
   "metadata": {
    "execution": {
     "iopub.execute_input": "2023-06-02T16:17:18.673432Z",
     "iopub.status.busy": "2023-06-02T16:17:18.673066Z",
     "iopub.status.idle": "2023-06-02T16:17:18.703755Z",
     "shell.execute_reply": "2023-06-02T16:17:18.702848Z"
    },
    "papermill": {
     "duration": 0.053787,
     "end_time": "2023-06-02T16:17:18.706218",
     "exception": false,
     "start_time": "2023-06-02T16:17:18.652431",
     "status": "completed"
    },
    "tags": []
   },
   "outputs": [],
   "source": [
    "CNN.compile(optimizer=tf.keras.optimizers.Adam(),\n",
    "              loss='categorical_crossentropy',\n",
    "              metrics=['accuracy'])"
   ]
  },
  {
   "cell_type": "code",
   "execution_count": 6,
   "id": "36a0604b",
   "metadata": {
    "execution": {
     "iopub.execute_input": "2023-06-02T16:17:18.729760Z",
     "iopub.status.busy": "2023-06-02T16:17:18.728845Z",
     "iopub.status.idle": "2023-06-02T19:38:48.688169Z",
     "shell.execute_reply": "2023-06-02T19:38:48.687166Z"
    },
    "papermill": {
     "duration": 12089.974141,
     "end_time": "2023-06-02T19:38:48.691214",
     "exception": false,
     "start_time": "2023-06-02T16:17:18.717073",
     "status": "completed"
    },
    "tags": []
   },
   "outputs": [
    {
     "name": "stdout",
     "output_type": "stream",
     "text": [
      "Epoch 1/15\n",
      "1630/1630 [==============================] - 915s 553ms/step - loss: 1.9185 - accuracy: 0.4038 - val_loss: 3.0447 - val_accuracy: 0.3298 - lr: 0.0010\n",
      "Epoch 2/15\n",
      "1630/1630 [==============================] - 757s 464ms/step - loss: 0.8059 - accuracy: 0.7361 - val_loss: 0.9493 - val_accuracy: 0.7244 - lr: 0.0010\n",
      "Epoch 3/15\n",
      "1630/1630 [==============================] - 760s 466ms/step - loss: 0.4899 - accuracy: 0.8425 - val_loss: 1.0605 - val_accuracy: 0.6993 - lr: 0.0010\n",
      "Epoch 4/15\n",
      "1630/1630 [==============================] - 766s 469ms/step - loss: 0.3736 - accuracy: 0.8846 - val_loss: 0.3413 - val_accuracy: 0.8965 - lr: 0.0010\n",
      "Epoch 5/15\n",
      "1630/1630 [==============================] - 766s 470ms/step - loss: 0.3104 - accuracy: 0.9043 - val_loss: 0.1996 - val_accuracy: 0.9350 - lr: 0.0010\n",
      "Epoch 6/15\n",
      "1630/1630 [==============================] - 763s 468ms/step - loss: 0.2528 - accuracy: 0.9227 - val_loss: 0.4581 - val_accuracy: 0.8861 - lr: 0.0010\n",
      "Epoch 7/15\n",
      "1630/1630 [==============================] - ETA: 0s - loss: 0.2319 - accuracy: 0.9294\n",
      "Epoch 7: ReduceLROnPlateau reducing learning rate to 0.00020000000949949026.\n",
      "1630/1630 [==============================] - 763s 468ms/step - loss: 0.2319 - accuracy: 0.9294 - val_loss: 0.4437 - val_accuracy: 0.8940 - lr: 0.0010\n",
      "Epoch 8/15\n",
      "1630/1630 [==============================] - 768s 471ms/step - loss: 0.1001 - accuracy: 0.9660 - val_loss: 0.0689 - val_accuracy: 0.9751 - lr: 2.0000e-04\n",
      "Epoch 9/15\n",
      "1630/1630 [==============================] - 784s 481ms/step - loss: 0.0792 - accuracy: 0.9720 - val_loss: 0.0692 - val_accuracy: 0.9760 - lr: 2.0000e-04\n",
      "Epoch 10/15\n",
      "1630/1630 [==============================] - ETA: 0s - loss: 0.0691 - accuracy: 0.9751\n",
      "Epoch 10: ReduceLROnPlateau reducing learning rate to 4.0000001899898055e-05.\n",
      "1630/1630 [==============================] - 784s 481ms/step - loss: 0.0691 - accuracy: 0.9751 - val_loss: 0.0776 - val_accuracy: 0.9744 - lr: 2.0000e-04\n",
      "Epoch 11/15\n",
      "1630/1630 [==============================] - 766s 470ms/step - loss: 0.0530 - accuracy: 0.9791 - val_loss: 0.0525 - val_accuracy: 0.9804 - lr: 4.0000e-05\n",
      "Epoch 12/15\n",
      "1630/1630 [==============================] - 772s 473ms/step - loss: 0.0517 - accuracy: 0.9807 - val_loss: 0.0508 - val_accuracy: 0.9821 - lr: 4.0000e-05\n",
      "Epoch 13/15\n",
      "1630/1630 [==============================] - 775s 475ms/step - loss: 0.0475 - accuracy: 0.9826 - val_loss: 0.0578 - val_accuracy: 0.9801 - lr: 4.0000e-05\n",
      "Epoch 14/15\n",
      "1630/1630 [==============================] - 786s 482ms/step - loss: 0.0462 - accuracy: 0.9825 - val_loss: 0.0424 - val_accuracy: 0.9857 - lr: 4.0000e-05\n",
      "Epoch 15/15\n",
      "1630/1630 [==============================] - 775s 475ms/step - loss: 0.0439 - accuracy: 0.9835 - val_loss: 0.0461 - val_accuracy: 0.9850 - lr: 4.0000e-05\n"
     ]
    }
   ],
   "source": [
    "early_stopping_cb = callbacks.EarlyStopping(monitor=\"val_loss\", patience=3)\n",
    "reduce_lr = callbacks.ReduceLROnPlateau(monitor=\"val_loss\",  \n",
    "                                              factor=0.2, \n",
    "                                              patience=2,\n",
    "                                              verbose=1, \n",
    "                                              min_lr=1e-7)\n",
    "\n",
    "checkpoint_path = \"./Checkpoint/\"\n",
    "model_checkpoint = callbacks.ModelCheckpoint(checkpoint_path,\n",
    "                                                      save_weights_only=True,\n",
    "                                                      save_best_only=True,\n",
    "                                                      monitor=\"val_loss\")\n",
    "\n",
    "initial_epochs = 15\n",
    "\n",
    "history = CNN.fit(train_generator,\n",
    "                    epochs=initial_epochs,\n",
    "                    validation_data=validation_generator,\n",
    "                    callbacks=[early_stopping_cb, model_checkpoint, reduce_lr])"
   ]
  },
  {
   "cell_type": "code",
   "execution_count": 7,
   "id": "64e44702",
   "metadata": {
    "execution": {
     "iopub.execute_input": "2023-06-02T19:38:52.644436Z",
     "iopub.status.busy": "2023-06-02T19:38:52.644017Z",
     "iopub.status.idle": "2023-06-02T19:39:02.473192Z",
     "shell.execute_reply": "2023-06-02T19:39:02.472164Z"
    },
    "papermill": {
     "duration": 11.860955,
     "end_time": "2023-06-02T19:39:02.476333",
     "exception": false,
     "start_time": "2023-06-02T19:38:50.615378",
     "status": "completed"
    },
    "tags": []
   },
   "outputs": [],
   "source": [
    "CNN.save('./CNNmodif.h5')\n",
    "CNN.save('./CNNmodif')\n",
    "CNN.save('./CNNmodif.tflite')"
   ]
  },
  {
   "cell_type": "code",
   "execution_count": 8,
   "id": "3cd921b1",
   "metadata": {
    "execution": {
     "iopub.execute_input": "2023-06-02T19:39:06.547200Z",
     "iopub.status.busy": "2023-06-02T19:39:06.546844Z",
     "iopub.status.idle": "2023-06-02T19:39:07.170790Z",
     "shell.execute_reply": "2023-06-02T19:39:07.168220Z"
    },
    "papermill": {
     "duration": 2.696751,
     "end_time": "2023-06-02T19:39:07.173183",
     "exception": false,
     "start_time": "2023-06-02T19:39:04.476432",
     "status": "completed"
    },
    "tags": []
   },
   "outputs": [
    {
     "data": {
      "image/png": "[encoded data removed]",
      "text/plain": [
       "<Figure size 640x480 with 1 Axes>"
      ]
     },
     "metadata": {},
     "output_type": "display_data"
    },
    {
     "data": {
      "image/png": "[encoded data removed]",
      "text/plain": [
       "<Figure size 640x480 with 1 Axes>"
      ]
     },
     "metadata": {},
     "output_type": "display_data"
    }
   ],
   "source": [
    "hist = history.history\n",
    "def show_plt(type):\n",
    "    if type == 1:\n",
    "        plt.plot(hist[\"accuracy\"], label=\"accuracy\")\n",
    "        plt.plot(hist[\"val_accuracy\"], label=\"val_accuracy\")\n",
    "        plt.ylabel(\"Aaccuracy\")\n",
    "        plt.xlabel(\"Epochs #\")\n",
    "        plt.legend()\n",
    "        plt.show()\n",
    "    else:\n",
    "        plt.plot(hist[\"loss\"], label=\"loss\")\n",
    "        plt.plot(hist[\"val_loss\"], label=\"val_loss\")\n",
    "        plt.ylabel(\"Losss\")\n",
    "        plt.xlabel(\"Epochs #\")\n",
    "        plt.legend()\n",
    "        plt.show()\n",
    "        \n",
    "show_plt(1)\n",
    "show_plt(0)"
   ]
  },
  {
   "cell_type": "code",
   "execution_count": 9,
   "id": "1797ce23",
   "metadata": {
    "execution": {
     "iopub.execute_input": "2023-06-02T19:39:11.637346Z",
     "iopub.status.busy": "2023-06-02T19:39:11.636977Z",
     "iopub.status.idle": "2023-06-02T19:39:11.642255Z",
     "shell.execute_reply": "2023-06-02T19:39:11.641280Z"
    },
    "papermill": {
     "duration": 2.04693,
     "end_time": "2023-06-02T19:39:11.644772",
     "exception": false,
     "start_time": "2023-06-02T19:39:09.597842",
     "status": "completed"
    },
    "tags": []
   },
   "outputs": [
    {
     "name": "stdout",
     "output_type": "stream",
     "text": [
      "['Blueberry___healthy', 'Blueberry_rust', 'Chilli_gemini', 'Chilli_healthy', 'Chilli_mosaic', 'Cucumber_blight', 'Cucumber_healthy', 'Grape___Black_rot', 'Grape___Esca_(Black_Measles)', 'Grape___Leaf_blight_(Isariopsis_Leaf_Spot)', 'Grape___healthy', 'Lettuce_bacterial', 'Lettuce_downy', 'Lettuce_healthy', 'Lettuce_powdery', 'Lettuce_septoria', 'Pepper,_bell___Bacterial_spot', 'Pepper,_bell___healthy', 'Strawberry___Leaf_scorch', 'Strawberry___healthy', 'Tomato___Bacterial_spot', 'Tomato___Early_blight', 'Tomato___Late_blight', 'Tomato___Leaf_Mold', 'Tomato___Septoria_leaf_spot', 'Tomato___Spider_mites Two-spotted_spider_mite', 'Tomato___Target_Spot', 'Tomato___Tomato_Yellow_Leaf_Curl_Virus', 'Tomato___Tomato_mosaic_virus', 'Tomato___healthy']\n"
     ]
    }
   ],
   "source": [
    "class_dict = train_generator.class_indices\n",
    "li = list(class_dict.keys())\n",
    "print(li)"
   ]
  },
  {
   "cell_type": "code",
   "execution_count": 10,
   "id": "af91afac",
   "metadata": {
    "execution": {
     "iopub.execute_input": "2023-06-02T19:39:15.575495Z",
     "iopub.status.busy": "2023-06-02T19:39:15.575138Z",
     "iopub.status.idle": "2023-06-02T19:39:49.705303Z",
     "shell.execute_reply": "2023-06-02T19:39:49.704105Z"
    },
    "papermill": {
     "duration": 36.140409,
     "end_time": "2023-06-02T19:39:49.708451",
     "exception": false,
     "start_time": "2023-06-02T19:39:13.568042",
     "status": "completed"
    },
    "tags": []
   },
   "outputs": [
    {
     "name": "stdout",
     "output_type": "stream",
     "text": [
      "408/408 [==============================] - 33s 80ms/step\n",
      "Confusion Matrix\n",
      "[[11 13 10  7  5 21 17 12 20 23 19 20 14 14 18 21 13 19 12 23 19 14  8 16\n",
      "  13 13 16 14 16 13]\n",
      " [14  9  9 10  7 16 17 12 12 13  9  6 12 12 18 11 13 19 11 23 19 12 10 20\n",
      "  16  8 13 15 13 20]\n",
      " [ 8  7  4  5  8  1  9  1  7 10 10  3 12  4 12  7 11  5  5 12  9  4  8  6\n",
      "   7  7  5 15  6 14]\n",
      " [ 9 10  2  4  3  6  7 15 17  7 10 13 12 12 12 10  9  6  4  9  7 10 11  7\n",
      "   9 11  6 12 10 10]\n",
      " [ 7  6  3  5  4  9  8  5  7 10 10  7  7  7 11 12 12  5  6  8  9  5  6  7\n",
      "   6  9 12 10  6  5]\n",
      " [14 10 10  6  9 16  8 12 13 20  8 10 20 16 16 17 14 17 11 11 16 13 13 11\n",
      "  17 14 12 12 16 20]\n",
      " [11 16  9  6  3  8 10 14 14 12 17  9 14 10 15 14 13 18 14 18 19 10 17 22\n",
      "  16 11 13 19  8 13]\n",
      " [17 13  7 10  9 10 12 14 14 10 13 11 17 19 25 16 23 19 16 20 14 15 11 19\n",
      "  15 13 27 18 21 24]\n",
      " [13 24 10 11  7 22 11 16 18 11 10 18 17 22 19 23 16 21 16 13 17 15 18 15\n",
      "  17 14 12 25 17 12]\n",
      " [16  8 11 14  7 10 11 13 19 16 16 11 17 13 15 22 10 16 25 23  9 20 13  6\n",
      "   9 15 15 14 16 20]\n",
      " [20 15  6  9  8 17 10 12 22 16 12  8 13 11 14 17  8 15 11 19 27 20 13 20\n",
      "  17 12 13 11 14 13]\n",
      " [16 17  9 12  6  9 11 12 11 16 14 12 17 20 15 20 21 15 12  7 16 20 13 12\n",
      "  10  9 11 11 14 22]\n",
      " [19  6  4  7  7 20  9 25 10 21 17 16 23 17 18 27 18 21 17 23 13 17 18 14\n",
      "  15 21 12 19 12 18]\n",
      " [22 17 10  9  8 10 13 17 20 21 12 11 14 19 23 13 13 24 17 22 16 17 11 16\n",
      "  16 17 21 23 17 13]\n",
      " [13 13  8 21 15 17 14 14 18 10 17 13 16 21 23 18 24 19 10 11 18 14 19 18\n",
      "  17 17 23 19 18 28]\n",
      " [30 11  9  9  8 23 14 25 13 17 20 13 16 19 20 17 19 19 21 25 19 21 26 14\n",
      "  23 14 14 17 16 18]\n",
      " [18 14  9  5  6 13 10 16 16 22 22 23 23 18 18 16 14 16 14 13 16 18 12 19\n",
      "  18 12 21 15 19 22]\n",
      " [21  9 11  7  7 23 13 12 15 15  8 14 24 22 19 24 26 16 21 13 10 29 14 21\n",
      "  13 17 25 15 15 18]\n",
      " [13 11  7  7  7 11 18 16 22 18 13 14 22 13 17 18 15 23 16 16 10 11 13 24\n",
      "  13 21 10 14 13 18]\n",
      " [13 16  8 12 11 12 17 15 12 13 13 14 16 15  9 17 15 14 21 13 20 21 19 18\n",
      "  17 16 16 17 16 20]\n",
      " [11 19  9  9 13 16 15 12 16 10 13 12 21 17 14 20 17 14  9 18 16 15 21 18\n",
      "  10 13  7 15 14 11]\n",
      " [ 9 14  5 13  6 12 16 16 10 16 14  9 20 16 19 24 19 27 14 19 10 15 19 24\n",
      "  19 15 21 22 18 19]\n",
      " [ 8 14  4  9  6 11 12 19 19 19 26 19 14 20 22 22 15 11 16 12 12 15 10 22\n",
      "  18 22 14 18 19 15]\n",
      " [15  8  8 14 12 10 13 12 26 11 25 12 16 18 20 20 15 19 14 10 14 18 20 16\n",
      "  16 25 17 16 14 16]\n",
      " [12 20  2  6  7  8 14 16 18 13 10 12 19 23 22 24 20 14 14 13 12 17 12 14\n",
      "  16 17 17 17 13 14]\n",
      " [15 13  7  9  8 15 13 10 16 19 13 17  7 10 21 32 21 14 17 14 12 15 15 10\n",
      "  16 18 13 17 14 14]\n",
      " [17 14  4  8  7 10 17 14 17 19 15 10 13 22 13 15 21 19 19 12 12 20 23 21\n",
      "  11 17 13 11 23 20]\n",
      " [15 23 10  8  9 17 11 19 18 17 14 16 19 13 14 16 16 23 24 19 19 18 20 19\n",
      "  18 14 12 15 14 20]\n",
      " [18 15 11 11  8 14 19 30 19 15 11 16 12 22 14 17 14 15 12 13 11  9 21 10\n",
      "  13 15 15 17 17 14]\n",
      " [12 14  6  9  3 15 23 27 21 21 12 16  9 17 19 25 16 16 20 18 12 16 14 14\n",
      "  16 18 13 25 21 13]]\n",
      "Classification Report\n",
      "                                               precision    recall  f1-score   support\n",
      "\n",
      "                          Blueberry___healthy       0.03      0.02      0.02       454\n",
      "                               Blueberry_rust       0.02      0.02      0.02       399\n",
      "                                Chilli_gemini       0.02      0.02      0.02       222\n",
      "                               Chilli_healthy       0.01      0.01      0.01       270\n",
      "                                Chilli_mosaic       0.02      0.02      0.02       224\n",
      "                              Cucumber_blight       0.04      0.04      0.04       402\n",
      "                             Cucumber_healthy       0.03      0.03      0.03       393\n",
      "                            Grape___Black_rot       0.03      0.03      0.03       472\n",
      "                 Grape___Esca_(Black_Measles)       0.04      0.04      0.04       480\n",
      "   Grape___Leaf_blight_(Isariopsis_Leaf_Spot)       0.03      0.04      0.04       430\n",
      "                              Grape___healthy       0.03      0.03      0.03       423\n",
      "                            Lettuce_bacterial       0.03      0.03      0.03       410\n",
      "                                Lettuce_downy       0.05      0.05      0.05       484\n",
      "                              Lettuce_healthy       0.04      0.04      0.04       482\n",
      "                              Lettuce_powdery       0.04      0.05      0.05       506\n",
      "                             Lettuce_septoria       0.03      0.03      0.03       530\n",
      "                Pepper,_bell___Bacterial_spot       0.03      0.03      0.03       478\n",
      "                       Pepper,_bell___healthy       0.03      0.03      0.03       497\n",
      "                     Strawberry___Leaf_scorch       0.04      0.04      0.04       444\n",
      "                         Strawberry___healthy       0.03      0.03      0.03       456\n",
      "                      Tomato___Bacterial_spot       0.04      0.04      0.04       425\n",
      "                        Tomato___Early_blight       0.03      0.03      0.03       480\n",
      "                         Tomato___Late_blight       0.02      0.02      0.02       463\n",
      "                           Tomato___Leaf_Mold       0.03      0.03      0.03       470\n",
      "                  Tomato___Septoria_leaf_spot       0.04      0.04      0.04       436\n",
      "Tomato___Spider_mites Two-spotted_spider_mite       0.04      0.04      0.04       435\n",
      "                         Tomato___Target_Spot       0.03      0.03      0.03       457\n",
      "       Tomato___Tomato_Yellow_Leaf_Curl_Virus       0.03      0.03      0.03       490\n",
      "                 Tomato___Tomato_mosaic_virus       0.04      0.04      0.04       448\n",
      "                             Tomato___healthy       0.03      0.03      0.03       481\n",
      "\n",
      "                                     accuracy                           0.03     13041\n",
      "                                    macro avg       0.03      0.03      0.03     13041\n",
      "                                 weighted avg       0.03      0.03      0.03     13041\n",
      "\n"
     ]
    }
   ],
   "source": [
    "import numpy as np\n",
    "#confusion Matrix\n",
    "from sklearn.metrics import classification_report, confusion_matrix\n",
    "y_pred = CNN.predict(validation_generator)\n",
    "\n",
    "y_pred = np.argmax(y_pred, axis=1)\n",
    "print('Confusion Matrix')\n",
    "print(confusion_matrix(validation_generator.classes, y_pred))\n",
    "print('Classification Report')\n",
    "target_names =li ## ['Peach___Bacterial_spot', 'Grape___Black_rot', 'Tomato___Tomato_Yellow_Leaf_Curl_Virus']\n",
    "print(classification_report(validation_generator.classes, y_pred, target_names=target_names))"
   ]
  },
  {
   "cell_type": "code",
   "execution_count": 11,
   "id": "fc58b087",
   "metadata": {
    "execution": {
     "iopub.execute_input": "2023-06-02T19:39:53.921792Z",
     "iopub.status.busy": "2023-06-02T19:39:53.920694Z",
     "iopub.status.idle": "2023-06-02T19:39:56.395756Z",
     "shell.execute_reply": "2023-06-02T19:39:56.394616Z"
    },
    "papermill": {
     "duration": 4.621204,
     "end_time": "2023-06-02T19:39:56.397745",
     "exception": false,
     "start_time": "2023-06-02T19:39:51.776541",
     "status": "completed"
    },
    "tags": []
   },
   "outputs": [
    {
     "name": "stdout",
     "output_type": "stream",
     "text": [
      "1/1 [==============================] - 0s 348ms/step\n",
      "Image: TomatoEarlyBlight6.JPG, Class: Tomato___Early_blight\n",
      "1/1 [==============================] - 0s 20ms/step\n",
      "Image: TomatoYellowCurlVirus4.JPG, Class: Tomato___Tomato_Yellow_Leaf_Curl_Virus\n",
      "1/1 [==============================] - 0s 20ms/step\n",
      "Image: TomatoYellowCurlVirus6.JPG, Class: Tomato___Tomato_Yellow_Leaf_Curl_Virus\n",
      "1/1 [==============================] - 0s 22ms/step\n",
      "Image: Chilli_gemini.png, Class: Chilli_gemini\n",
      "1/1 [==============================] - 0s 21ms/step\n",
      "Image: Chilli_healtty.png, Class: Chilli_healthy\n",
      "1/1 [==============================] - 0s 20ms/step\n",
      "Image: TomatoYellowCurlVirus5.JPG, Class: Tomato___Tomato_Yellow_Leaf_Curl_Virus\n",
      "1/1 [==============================] - 0s 21ms/step\n",
      "Image: Cucumber_healthy (2).png, Class: Cucumber_healthy\n",
      "1/1 [==============================] - 0s 21ms/step\n",
      "Image: TomatoYellowCurlVirus3.JPG, Class: Tomato___Tomato_Yellow_Leaf_Curl_Virus\n",
      "1/1 [==============================] - 0s 21ms/step\n",
      "Image: TomatoEarlyBlight3.JPG, Class: Tomato___Tomato_Yellow_Leaf_Curl_Virus\n",
      "1/1 [==============================] - 0s 21ms/step\n",
      "Image: Cucumber_healthy (1).png, Class: Chilli_healthy\n",
      "1/1 [==============================] - 0s 21ms/step\n",
      "Image: TomatoEarlyBlight5.JPG, Class: Tomato___Early_blight\n",
      "1/1 [==============================] - 0s 22ms/step\n",
      "Image: TomatoHealthy2.JPG, Class: Tomato___healthy\n",
      "1/1 [==============================] - 0s 22ms/step\n",
      "Image: Blueberry_rust.png, Class: Strawberry___Leaf_scorch\n",
      "1/1 [==============================] - 0s 20ms/step\n",
      "Image: bb_rust.png, Class: Grape___Black_rot\n",
      "1/1 [==============================] - 0s 21ms/step\n",
      "Image: TomatoEarlyBlight2.JPG, Class: Tomato___Early_blight\n",
      "1/1 [==============================] - 0s 20ms/step\n",
      "Image: rapsber.png, Class: Strawberry___Leaf_scorch\n",
      "1/1 [==============================] - 0s 19ms/step\n",
      "Image: TomatoYellowCurlVirus2.JPG, Class: Tomato___Tomato_Yellow_Leaf_Curl_Virus\n",
      "1/1 [==============================] - 0s 20ms/step\n",
      "Image: ras.png, Class: Blueberry_rust\n",
      "1/1 [==============================] - 0s 21ms/step\n",
      "Image: TomatoEarlyBlight4.JPG, Class: Tomato___Early_blight\n",
      "1/1 [==============================] - 0s 21ms/step\n",
      "Image: TomatoHealthy3.JPG, Class: Tomato___healthy\n",
      "1/1 [==============================] - 0s 21ms/step\n",
      "Image: belpper_bvac.png, Class: Blueberry_rust\n",
      "1/1 [==============================] - 0s 20ms/step\n",
      "Image: TomatoHealthy1.JPG, Class: Tomato___healthy\n",
      "1/1 [==============================] - 0s 20ms/step\n",
      "Image: TomatoYellowCurlVirus1.JPG, Class: Tomato___Tomato_Yellow_Leaf_Curl_Virus\n",
      "1/1 [==============================] - 0s 22ms/step\n",
      "Image: Strawberry_sorch.png, Class: Strawberry___Leaf_scorch\n",
      "1/1 [==============================] - 0s 21ms/step\n",
      "Image: Cucumber_blight.png, Class: Cucumber_blight\n",
      "1/1 [==============================] - 0s 21ms/step\n",
      "Image: berlpper_bac.png, Class: Cucumber_blight\n",
      "1/1 [==============================] - 0s 21ms/step\n",
      "Image: TomatoEarlyBlight1.JPG, Class: Tomato___Early_blight\n",
      "1/1 [==============================] - 0s 21ms/step\n",
      "Image: TomatoHealthy4.JPG, Class: Tomato___healthy\n"
     ]
    }
   ],
   "source": [
    "import os\n",
    "from PIL import Image\n",
    "import numpy as np\n",
    "from keras.models import load_model\n",
    "# Load the trained model\n",
    "model = CNN\n",
    "\n",
    "# Define the image size and preprocessing function\n",
    "img_size = (224, 224)\n",
    "def preprocess_image(img_path):\n",
    "    img = Image.open(img_path).convert('RGB')\n",
    "    img = img.resize(img_size)\n",
    "    img = np.array(img) / 255.0\n",
    "    img = np.expand_dims(img, axis=0)\n",
    "    return img\n",
    "\n",
    "# Set the path to the image folder\n",
    "img_folder = test_dir\n",
    "class_names = list(train_generator.class_indices.keys())\n",
    "# Loop through all the images in the folder and make predictions\n",
    "for filename in os.listdir(img_folder):\n",
    "    img_path = os.path.join(img_folder, filename)\n",
    "    img = preprocess_image(img_path)\n",
    "    pred = model.predict(img)\n",
    "    class_idx = np.argmax(pred)\n",
    "    class_name = class_names[class_idx]\n",
    "    print(f'Image: {filename}, Class: {class_name}')"
   ]
  }
 ],
 "metadata": {
  "kernelspec": {
   "display_name": "Python 3",
   "language": "python",
   "name": "python3"
  },
  "language_info": {
   "codemirror_mode": {
    "name": "ipython",
    "version": 3
   },
   "file_extension": ".py",
   "mimetype": "text/x-python",
   "name": "python",
   "nbconvert_exporter": "python",
   "pygments_lexer": "ipython3",
   "version": "3.10.10"
  },
  "papermill": {
   "default_parameters": {},
   "duration": 12205.942536,
   "end_time": "2023-06-02T19:40:01.271976",
   "environment_variables": {},
   "exception": null,
   "input_path": "__notebook__.ipynb",
   "output_path": "__notebook__.ipynb",
   "parameters": {},
   "start_time": "2023-06-02T16:16:35.329440",
   "version": "2.4.0"
  }
 },
 "nbformat": 4,
 "nbformat_minor": 5
}
